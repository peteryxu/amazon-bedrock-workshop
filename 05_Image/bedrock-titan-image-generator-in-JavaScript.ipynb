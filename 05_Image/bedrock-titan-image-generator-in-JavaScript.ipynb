{
 "cells": [
  {
   "cell_type": "markdown",
   "id": "7860903d-d288-4e72-b0a5-088ae2a6ec7e",
   "metadata": {},
   "source": [
    "# Generating images using Amazon Titan Image Generator (JavaScript)"
   ]
  },
  {
   "cell_type": "markdown",
   "id": "ac9c007c-b2f7-49c3-9cf1-fff2ae084021",
   "metadata": {},
   "source": [
    "> ☝️ This notebook should work well with the __`Data Science 3.0`__ kernel in Amazon SageMaker Studio and with the __`conda_python3`__ in a Amazon SageMaker Notebook Instance."
   ]
  },
  {
   "cell_type": "markdown",
   "id": "d367a65a-7a1f-4ba5-bdd2-d42e20703375",
   "metadata": {},
   "source": [
    "In the [Generating images using Amazon Titan Image Generator](https://github.com/aws-samples/amazon-bedrock-workshop/blob/main/05_Image/bedrock-titan-image-generator.ipynb) tutorial, we have showed how to use the new [Amazon Titan Image Generator](https://docs.aws.amazon.com/bedrock/latest/userguide/titan-image-models.html) on [Amazon Bedrock](https://aws.amazon.com/bedrock/) model to generate (text-to-image) and edit (image-to-image) images.\n",
    "\n",
    "In this tutorial, we will show the same concepts but using JavaScript instead of Python. We highly recommend to go through [Generating images using Amazon Titan Image Generator](https://github.com/aws-samples/amazon-bedrock-workshop/blob/main/05_Image/bedrock-titan-image-generator.ipynb) first to understand the basic concepts."
   ]
  },
  {
   "cell_type": "markdown",
   "id": "068e1ed5-e641-4dea-9305-ec74869ffa12",
   "metadata": {},
   "source": [
    "## Setup\n",
    "\n",
    "⚠️ ⚠️ ⚠️Before running this notebook, make sure you've installed [Node.js](https://nodejs.org/en).⚠️ ⚠️ ⚠️ I followed [this blog](https://www.cherryservers.com/blog/install-nodejs-on-ubuntu) to install the 20.10.0 LTS version as of Jan 2024.\n",
    "\n",
    "Firstly, run the below command to add the NodeSource repository."
   ]
  },
  {
   "cell_type": "code",
   "execution_count": null,
   "id": "f202c908-4e16-48cc-810a-832304f1c511",
   "metadata": {
    "tags": []
   },
   "outputs": [],
   "source": [
    "!curl -fsSL https://deb.nodesource.com/setup_20.x | bash -"
   ]
  },
  {
   "cell_type": "markdown",
   "id": "6afbcad7-d56f-47d4-80da-3353470ac332",
   "metadata": {},
   "source": [
    "Once the repository is added, install Node.js and npm by running the below command."
   ]
  },
  {
   "cell_type": "code",
   "execution_count": null,
   "id": "00071339-c1d3-4231-969b-f93c12b66c74",
   "metadata": {
    "tags": []
   },
   "outputs": [],
   "source": [
    "!apt install -y nodejs"
   ]
  },
  {
   "cell_type": "markdown",
   "id": "3ab70894-db1b-4be8-9682-72988bb2be2c",
   "metadata": {},
   "source": [
    "Check node version and npm version."
   ]
  },
  {
   "cell_type": "code",
   "execution_count": null,
   "id": "58577439-f4bf-42e3-b11d-c4dbceebb9ad",
   "metadata": {
    "tags": []
   },
   "outputs": [],
   "source": [
    "# Should be starting with v20.xx.x.\n",
    "!node -v"
   ]
  },
  {
   "cell_type": "code",
   "execution_count": null,
   "id": "3604e8cb-a66d-4c44-8d1e-f46dd1238aab",
   "metadata": {
    "tags": []
   },
   "outputs": [],
   "source": [
    "# Should be starting with 10.x.x.\n",
    "!npm -v"
   ]
  },
  {
   "cell_type": "markdown",
   "id": "32a5737e-a7b5-4630-85ff-6af9df7ffaad",
   "metadata": {},
   "source": [
    "[Install AWS SDK for JavaScript v3](https://docs.aws.amazon.com/AWSJavaScriptSDK/v3/latest/client/bedrock-runtime/)."
   ]
  },
  {
   "cell_type": "code",
   "execution_count": null,
   "id": "f5a33388-6ca8-4761-a7d8-b382c902b133",
   "metadata": {
    "tags": []
   },
   "outputs": [],
   "source": [
    "!npm install @aws-sdk/client-bedrock-runtime"
   ]
  },
  {
   "cell_type": "markdown",
   "id": "c889be37-c59f-4a2e-a39e-34e2af3e568b",
   "metadata": {},
   "source": [
    "Create 2 directories for later usage."
   ]
  },
  {
   "cell_type": "code",
   "execution_count": null,
   "id": "85db6811-0250-4901-9732-d8cfceb7d682",
   "metadata": {
    "tags": []
   },
   "outputs": [],
   "source": [
    "import os"
   ]
  },
  {
   "cell_type": "code",
   "execution_count": null,
   "id": "bfb40f48-6ae4-4705-9bab-dcc663160d67",
   "metadata": {
    "tags": []
   },
   "outputs": [],
   "source": [
    "os.makedirs(\"data/js-code\", exist_ok=True)\n",
    "os.makedirs(\"data/titan-js\", exist_ok=True)"
   ]
  },
  {
   "cell_type": "markdown",
   "id": "b940d183-e770-45e0-aec4-08e97abedf98",
   "metadata": {},
   "source": [
    "## Use Cases"
   ]
  },
  {
   "cell_type": "markdown",
   "id": "478429c0-930a-40f7-8f24-780b18f23cad",
   "metadata": {},
   "source": [
    "### Text to Image\n",
    "\n",
    "In text-to-image mode, we provide a text description (prompt) of the image that **should** be generated.\n",
    "\n",
    "What if we want to **avoid** specific content or stylistic choices? Because image generation models are typically trained from image descriptions, trying to directly specify what you **don't** want in the prompt (e.g. man without a beard) doesn't usually work well: it would be very unusual to describe an image by what it is not!\n",
    "\n",
    "In the case of Amazon Titan Image Generator, we can specify a negative prompt to steer the model away from unwanted elements."
   ]
  },
  {
   "cell_type": "markdown",
   "id": "4dfb54c0-a992-4078-a2ed-efaefa06ab0e",
   "metadata": {},
   "source": [
    "Write the below JS code to a file."
   ]
  },
  {
   "cell_type": "code",
   "execution_count": null,
   "id": "42066cd6-b086-4454-9989-e45087655d98",
   "metadata": {
    "tags": []
   },
   "outputs": [],
   "source": [
    "%%writefile data/js-code/image_generation.js\n",
    "\n",
    "const { BedrockRuntime } = require('@aws-sdk/client-bedrock-runtime');\n",
    "const fs = require('fs');\n",
    "\n",
    "const prompt = 'a dog walking down an urban street';\n",
    "const negativePrompts = 'cars';\n",
    "const outputImageNamePrefix = 'data/titan-js/image-generation';\n",
    "\n",
    "async function run() {\n",
    "  // Create a new BedrockRuntime client.\n",
    "  const bedrockRuntime = new BedrockRuntime({});\n",
    "\n",
    "  // Configure the inference parameters.\n",
    "  const inferenceParams = {\n",
    "    taskType: 'TEXT_IMAGE',\n",
    "    textToImageParams: {\n",
    "      text: prompt,\n",
    "      negativeText: negativePrompts \n",
    "    },\n",
    "    imageGenerationConfig: {\n",
    "      numberOfImages: 1,\n",
    "      quality: 'premium',\n",
    "      height: 512,\n",
    "      width: 512,\n",
    "      cfgScale: 8.0,\n",
    "      seed: 0 // Use a fixed seed for repeatability.\n",
    "              // Or you can use a random seed: Math.round(Math.random() * 100000)\n",
    "    }\n",
    "  };\n",
    "\n",
    "  // Invoke the model.\n",
    "  const response = await bedrockRuntime.invokeModel({\n",
    "    modelId: 'amazon.titan-image-generator-v1',\n",
    "    contentType: 'application/json',\n",
    "    accept: 'application/json',\n",
    "    body: JSON.stringify(inferenceParams)\n",
    "  });\n",
    "\n",
    "  // Convert the JSON string to an object.\n",
    "  const responseBody = JSON.parse(response.body.transformToString());\n",
    "\n",
    "  // Loop through the generated images and save each to disk.\n",
    "  const images = responseBody.images;\n",
    "  images.forEach((image, index) => {\n",
    "    const outputFileName = `${outputImageNamePrefix}-${index + 1}.png`;\n",
    "    fs.writeFileSync(outputFileName, image, 'base64');\n",
    "    console.log(`Generated image: ${outputFileName}.`);\n",
    "  });\n",
    "}\n",
    "\n",
    "run();"
   ]
  },
  {
   "cell_type": "markdown",
   "id": "e8727ce0-5bc1-4f02-94a3-1712e6ad028d",
   "metadata": {},
   "source": [
    "Execute the js code."
   ]
  },
  {
   "cell_type": "code",
   "execution_count": null,
   "id": "9c9f6a8a-70ee-4380-94a8-f345a6d3f641",
   "metadata": {
    "tags": []
   },
   "outputs": [],
   "source": [
    "!node data/js-code/image_generation.js"
   ]
  },
  {
   "cell_type": "markdown",
   "id": "a6626957-5416-4871-acac-95e66cc2f212",
   "metadata": {},
   "source": [
    "Check the generated image."
   ]
  },
  {
   "cell_type": "code",
   "execution_count": null,
   "id": "05698e6b-8ba0-48a0-8ee9-7a43c2f16921",
   "metadata": {},
   "outputs": [],
   "source": [
    "from PIL import Image"
   ]
  },
  {
   "cell_type": "code",
   "execution_count": null,
   "id": "b9097933-aafe-4ca0-b659-9c40455fceae",
   "metadata": {
    "tags": []
   },
   "outputs": [],
   "source": [
    "Image.open(\"data/titan-js/image-generation-1.png\")"
   ]
  },
  {
   "cell_type": "markdown",
   "id": "752eec39-8a95-4432-9090-7723058a5995",
   "metadata": {},
   "source": [
    "### Image Variation\n",
    "\n",
    "Generating images from text is powerful but, in some cases, you will need many rounds of prompt refinement to get just the right image.\n",
    "\n",
    "Rather than starting from scratch, image-to-image generation lets us **modify** an existing image to make specific changes."
   ]
  },
  {
   "cell_type": "markdown",
   "id": "e480af82-53d0-476f-98fb-df046105612a",
   "metadata": {},
   "source": [
    "Write the below JS code to a file."
   ]
  },
  {
   "cell_type": "code",
   "execution_count": null,
   "id": "5c0c0629-9aad-4d82-b464-195a053b6f99",
   "metadata": {},
   "outputs": [],
   "source": [
    "%%writefile data/js-code/image_variation.js\n",
    "\n",
    "const { BedrockRuntime } = require('@aws-sdk/client-bedrock-runtime');\n",
    "const fs = require('fs');\n",
    "\n",
    "const input_image = 'images/woman-in-gallery.jpg';\n",
    "const prompt = 'a woman standing in an art gallery';\n",
    "const outputImageNamePrefix = 'data/titan-js/image-variation';\n",
    "\n",
    "console.log(`Original image: ${input_image}.`);\n",
    "\n",
    "async function run() {\n",
    "  // Create a new BedrockRuntime client.\n",
    "  const bedrockRuntime = new BedrockRuntime({});\n",
    "\n",
    "  // Load the input image from disk.\n",
    "  // IMPORTANT: The image width and height must both be 1024 pixels or less.\n",
    "  const inputImage = fs.readFileSync(input_image);\n",
    "  const inputImageBase64 = inputImage.toString('base64');\n",
    "\n",
    "  // Configure the inference parameters.\n",
    "  const inferenceParams = {\n",
    "    taskType: 'IMAGE_VARIATION',\n",
    "    imageVariationParams: {\n",
    "      images: [inputImageBase64],\n",
    "      text: prompt // Description of the original image\n",
    "    },\n",
    "    imageGenerationConfig: {\n",
    "      numberOfImages: 1, // Number of variations to generate\n",
    "      quality: 'premium', // Allowed values are 'standard' or 'premium'\n",
    "      height: 1024,\n",
    "      width: 1024,\n",
    "      cfgScale: 8.0,\n",
    "      seed: 0 // Use a fixed seed for repeatability.\n",
    "              // Or you can use a random seed: Math.round(Math.random() * 100000)\n",
    "    }\n",
    "  };\n",
    "\n",
    "  // Invoke the model.\n",
    "  const response = await bedrockRuntime.invokeModel({\n",
    "    modelId: 'amazon.titan-image-generator-v1',\n",
    "    contentType: 'application/json',\n",
    "    accept: 'application/json',\n",
    "    body: JSON.stringify(inferenceParams)\n",
    "  });\n",
    "\n",
    "  // Convert the JSON string to an object.\n",
    "  const responseBody = JSON.parse(response.body.transformToString());\n",
    "\n",
    "  // Loop through the generated images and save each to disk.\n",
    "  const images = responseBody.images;\n",
    "  images.forEach((image, index) => {\n",
    "    const outputFileName = `${outputImageNamePrefix}-${index + 1}.png`;\n",
    "    fs.writeFileSync(outputFileName, image, 'base64');\n",
    "    console.log(`Generated image: ${outputFileName}.`);\n",
    "  });\n",
    "}\n",
    "\n",
    "run();"
   ]
  },
  {
   "cell_type": "markdown",
   "id": "3eea7264-f968-4b53-828c-8f1002b06373",
   "metadata": {},
   "source": [
    "Execute the js code."
   ]
  },
  {
   "cell_type": "code",
   "execution_count": null,
   "id": "3ac0a44a-d063-43e7-ab1c-ae0e416b8a12",
   "metadata": {},
   "outputs": [],
   "source": [
    "!node data/js-code/image_variation.js"
   ]
  },
  {
   "cell_type": "markdown",
   "id": "729e0137-abc3-44f7-aab1-1178edc314dc",
   "metadata": {},
   "source": [
    "Check the original image."
   ]
  },
  {
   "cell_type": "code",
   "execution_count": null,
   "id": "eed3a9b4-9e47-41f5-b1a6-ae2094f30759",
   "metadata": {
    "tags": []
   },
   "outputs": [],
   "source": [
    "Image.open(\"images/woman-in-gallery.jpg\")"
   ]
  },
  {
   "cell_type": "markdown",
   "id": "ad26e4f1-adae-4c8c-904a-c9543d8dc591",
   "metadata": {},
   "source": [
    "Check the generated image."
   ]
  },
  {
   "cell_type": "code",
   "execution_count": null,
   "id": "652e57ff-5162-4ece-ab9f-236b4df5de0e",
   "metadata": {
    "tags": []
   },
   "outputs": [],
   "source": [
    "Image.open(\"data/titan-js/image-variation-1.png\")"
   ]
  },
  {
   "cell_type": "markdown",
   "id": "d53babd9-6e5e-450f-ae13-8ba5b37d173c",
   "metadata": {},
   "source": [
    "### Inpainting\n",
    "\n",
    "Another way to modify images is by using **inpainting**.\n",
    "\n",
    "Inpainting refers to the process of replacing a portion of an image with another image based on a textual prompt.\n",
    "\n",
    "By providing a mask image that outlines the portion to be replaced, a textual prompt, and the original image, the model can produce a new image that replaces the masked area with the object, subject, or environment described in the textual prompt."
   ]
  },
  {
   "cell_type": "markdown",
   "id": "ec6b66ca-2c7a-4d66-90fa-203c2e297439",
   "metadata": {},
   "source": [
    "#### Add an object to an image using mask image\n",
    "\n",
    "Write the below JS code to a file."
   ]
  },
  {
   "cell_type": "code",
   "execution_count": null,
   "id": "14378358-1d5d-41f7-9f3e-387f96dcad86",
   "metadata": {
    "tags": []
   },
   "outputs": [],
   "source": [
    "%%writefile data/js-code/object_addition.js\n",
    "\n",
    "const { BedrockRuntime } = require('@aws-sdk/client-bedrock-runtime');\n",
    "const fs = require('fs');\n",
    "\n",
    "const prompt = 'an old wooden stool near the table';\n",
    "const input_image = 'images/three_pots.jpg';\n",
    "\n",
    "// TODO: Use of the inverted mask is a hack to workaround a bug in the Titan\n",
    "// Image Generator API. Remove this when the bug is fixed.\n",
    "// const mask_image = 'images/three_pots-add_mask.png';\n",
    "const mask_image = 'images/three_pots-add_mask_INVERTED.png';\n",
    "\n",
    "const outputImageNamePrefix = 'data/titan-js/image-addtion-mask-image';\n",
    "\n",
    "console.log(`Original image: ${input_image}.`);\n",
    "console.log(`Mask image: ${mask_image}.`);\n",
    "\n",
    "async function run() {\n",
    "  // Create a new BedrockRuntime client.\n",
    "  const bedrockRuntime = new BedrockRuntime({});\n",
    "\n",
    "  // Load the input image from disk.\n",
    "  // IMPORTANT: The image width and height must both be 1024 pixels or less.\n",
    "  const inputImage = fs.readFileSync(input_image);\n",
    "  const inputImageBase64 = inputImage.toString('base64');\n",
    "\n",
    "  // Load the mask image from disk. White pixels in the mask represent the\n",
    "  // the area in which to generate new content.\n",
    "  // IMPORTANT: The mask must be in PNG format and must contain only pure\n",
    "  // black and pure white pixels.\n",
    "  const maskImage = fs.readFileSync(mask_image);\n",
    "  const maskImageBase64 = maskImage.toString('base64');\n",
    "\n",
    "  // Configure the inference parameters.\n",
    "  const inferenceParams = {\n",
    "    taskType: 'INPAINTING',\n",
    "    inPaintingParams: {\n",
    "      image: inputImageBase64,\n",
    "      maskImage: maskImageBase64,\n",
    "      text: prompt // Add a stool to the image\n",
    "    },\n",
    "    imageGenerationConfig: {\n",
    "      numberOfImages: 1,\n",
    "      quality: 'premium', // Allowed values are 'standard' and 'premium'\n",
    "      height: 1024,\n",
    "      width: 1024,\n",
    "      cfgScale: 8.0,\n",
    "      seed: 3 // Change the seed to generate different content\n",
    "    }\n",
    "  };\n",
    "\n",
    "  // Invoke the model.\n",
    "  const response = await bedrockRuntime.invokeModel({\n",
    "    modelId: 'amazon.titan-image-generator-v1',\n",
    "    contentType: 'application/json',\n",
    "    accept: 'application/json',\n",
    "    body: JSON.stringify(inferenceParams)\n",
    "  });\n",
    "\n",
    "  // Convert the JSON string to an object.\n",
    "  const responseBody = JSON.parse(response.body.transformToString());\n",
    "\n",
    "  // Loop through the generated images and save each to disk.\n",
    "  const images = responseBody.images;\n",
    "  images.forEach((image, index) => {\n",
    "    const outputFileName = `${outputImageNamePrefix}-${index + 1}.png`;\n",
    "    fs.writeFileSync(outputFileName, image, 'base64');\n",
    "    console.log(`Generated image: ${outputFileName}.`);\n",
    "  });\n",
    "}\n",
    "\n",
    "run();"
   ]
  },
  {
   "cell_type": "markdown",
   "id": "cfd941ba-b641-4336-9fc0-9b1d8a4c3182",
   "metadata": {},
   "source": [
    "Execute the js code."
   ]
  },
  {
   "cell_type": "code",
   "execution_count": null,
   "id": "e4ccc2cb-fcb9-4a6e-94de-d263f8be434a",
   "metadata": {
    "tags": []
   },
   "outputs": [],
   "source": [
    "!node data/js-code/object_addition.js"
   ]
  },
  {
   "cell_type": "markdown",
   "id": "d8fd35eb-1605-4a19-89d4-7f330c29457e",
   "metadata": {},
   "source": [
    "Check the original image."
   ]
  },
  {
   "cell_type": "code",
   "execution_count": null,
   "id": "620d7269-b19b-463d-bdcf-c60755397a3f",
   "metadata": {
    "tags": []
   },
   "outputs": [],
   "source": [
    "Image.open(\"images/three_pots.jpg\")"
   ]
  },
  {
   "cell_type": "markdown",
   "id": "773938a8-b10f-4043-bd73-e2e87700c70f",
   "metadata": {},
   "source": [
    "Check the mask image."
   ]
  },
  {
   "cell_type": "code",
   "execution_count": null,
   "id": "6da397af-1228-4a53-a733-70571e7927ba",
   "metadata": {
    "tags": []
   },
   "outputs": [],
   "source": [
    "Image.open(\"images/three_pots-add_mask_INVERTED.png\")"
   ]
  },
  {
   "cell_type": "markdown",
   "id": "c2b7bd88-55fd-4eeb-975a-2847e8eb871f",
   "metadata": {},
   "source": [
    "Check the generated image."
   ]
  },
  {
   "cell_type": "code",
   "execution_count": null,
   "id": "1b0e1394-37ec-4cf8-8e7b-22b9fb349df7",
   "metadata": {
    "tags": []
   },
   "outputs": [],
   "source": [
    "Image.open(\"data/titan-js/image-addtion-mask-image-1.png\")"
   ]
  },
  {
   "cell_type": "markdown",
   "id": "ada365e0-2b95-4f63-8939-797c0ab3018e",
   "metadata": {},
   "source": [
    "#### Remove an object from an image using mask image\n",
    "\n",
    "Write the below JS code to a file."
   ]
  },
  {
   "cell_type": "code",
   "execution_count": null,
   "id": "5be469a3-2da2-4740-8295-fac65e9667eb",
   "metadata": {
    "tags": []
   },
   "outputs": [],
   "source": [
    "%%writefile data/js-code/object_removal_using_a_mask_image.js\n",
    "\n",
    "const { BedrockRuntime } = require('@aws-sdk/client-bedrock-runtime');\n",
    "const fs = require('fs');\n",
    "\n",
    "const input_image = 'images/three_pots.jpg';\n",
    "\n",
    "// TODO: Use of the inverted mask is a hack to workaround a bug in the Titan\n",
    "// Image Generator API. Remove this when the bug is fixed.\n",
    "// const mask_image = 'images/three_pots-remove_mask.png';\n",
    "const mask_image = 'images/three_pots-center_pot_mask_INVERTED.png';\n",
    "\n",
    "const outputImageNamePrefix = 'data/titan-js/object-removal-mask-image';\n",
    "\n",
    "console.log(`Original image: ${input_image}.`);\n",
    "console.log(`Mask image: ${mask_image}.`);\n",
    "\n",
    "async function run() {\n",
    "  // Create a new BedrockRuntime client.\n",
    "  const bedrockRuntime = new BedrockRuntime({});\n",
    "\n",
    "  // Load the input image from disk.\n",
    "  // IMPORTANT: The image width and height must both be 1024 pixels or less.\n",
    "  const inputImage = fs.readFileSync(input_image);\n",
    "  const inputImageBase64 = inputImage.toString('base64');\n",
    "\n",
    "  // Load the mask image from disk. White pixels in the mask represent the\n",
    "  // object(s) to be removed.\n",
    "  // IMPORTANT: The mask must be in PNG format and must contain only pure\n",
    "  // black and pure white pixels.\n",
    "  const maskImage = fs.readFileSync(mask_image);\n",
    "  const maskImageBase64 = maskImage.toString('base64');\n",
    "\n",
    "  // Configure the inference parameters.\n",
    "  const inferenceParams = {\n",
    "    taskType: 'INPAINTING',\n",
    "    inPaintingParams: {\n",
    "      image: inputImageBase64,\n",
    "      maskImage: maskImageBase64\n",
    "      // We intentionally omit the \"text\" param. By doing so, the generated\n",
    "      // content will attempt to match the background.\n",
    "    },\n",
    "    imageGenerationConfig: {\n",
    "      numberOfImages: 1,\n",
    "      quality: 'premium', // Allowed values are 'standard' and 'premium'\n",
    "      height: 1024,\n",
    "      width: 1024,\n",
    "      cfgScale: 8.0,\n",
    "      seed: 1 // If you don't get a clean removal you may want to try a different seed.\n",
    "    }\n",
    "  };\n",
    "\n",
    "  // Invoke the model.\n",
    "  const response = await bedrockRuntime.invokeModel({\n",
    "    modelId: 'amazon.titan-image-generator-v1',\n",
    "    contentType: 'application/json',\n",
    "    accept: 'application/json',\n",
    "    body: JSON.stringify(inferenceParams)\n",
    "  });\n",
    "\n",
    "  // Convert the JSON string to an object.\n",
    "  const responseBody = JSON.parse(response.body.transformToString());\n",
    "\n",
    "  // Loop through the generated images and save each to disk.\n",
    "  const images = responseBody.images;\n",
    "  images.forEach((image, index) => {\n",
    "    const outputFileName = `${outputImageNamePrefix}-${index + 1}.png`;\n",
    "    fs.writeFileSync(outputFileName, image, 'base64');\n",
    "    console.log(`Generated image: ${outputFileName}.`);\n",
    "  });\n",
    "}\n",
    "\n",
    "run();"
   ]
  },
  {
   "cell_type": "code",
   "execution_count": null,
   "id": "31a5bbad-0cdc-4240-a031-ca0687efc8f7",
   "metadata": {
    "tags": []
   },
   "outputs": [],
   "source": [
    "!node data/js-code/object_removal_using_a_mask_image.js"
   ]
  },
  {
   "cell_type": "markdown",
   "id": "aeed4875-514d-439d-93ad-7298d068a668",
   "metadata": {},
   "source": [
    "Check original image."
   ]
  },
  {
   "cell_type": "code",
   "execution_count": null,
   "id": "7eb290c2-5a46-4275-8f17-525c78cddc6f",
   "metadata": {
    "tags": []
   },
   "outputs": [],
   "source": [
    "Image.open(\"images/three_pots.jpg\")"
   ]
  },
  {
   "cell_type": "markdown",
   "id": "548a0377-c88d-4719-9a90-28649357db1c",
   "metadata": {},
   "source": [
    "Check mask image."
   ]
  },
  {
   "cell_type": "code",
   "execution_count": null,
   "id": "c4c2ed32-3238-46b3-a36c-f9700cdaa8c6",
   "metadata": {
    "tags": []
   },
   "outputs": [],
   "source": [
    "Image.open(\"images/three_pots-center_pot_mask_INVERTED.png\")"
   ]
  },
  {
   "cell_type": "markdown",
   "id": "cc128f67-340f-496a-b570-9f3c062c06f2",
   "metadata": {},
   "source": [
    "Check generated image."
   ]
  },
  {
   "cell_type": "code",
   "execution_count": null,
   "id": "2e3db0c0-794b-4651-a8e1-e36697121db7",
   "metadata": {
    "tags": []
   },
   "outputs": [],
   "source": [
    "Image.open(\"data/titan-js/object-removal-mask-image-1.png\")"
   ]
  },
  {
   "cell_type": "markdown",
   "id": "2437106a-f37d-4996-aa58-3430fa6beafb",
   "metadata": {},
   "source": [
    "#### Replace object using a mask prompt\n",
    "\n",
    "Write the below JS code to a file."
   ]
  },
  {
   "cell_type": "code",
   "execution_count": null,
   "id": "0180c580-1292-4e3f-99a5-05ee5d0edbce",
   "metadata": {
    "tags": []
   },
   "outputs": [],
   "source": [
    "%%writefile data/js-code/object_replacement_using_a_mask_prompt.js\n",
    "\n",
    "const { BedrockRuntime } = require('@aws-sdk/client-bedrock-runtime');\n",
    "const fs = require('fs');\n",
    "\n",
    "const prompt = 'a pale blue potting table with drawers';\n",
    "const maskPrompt = 'table';\n",
    "const input_image = 'images/three_pots.jpg';\n",
    "const outputImageNamePrefix = 'data/titan-js/object-replacement-mask-prompt';\n",
    "\n",
    "console.log(`Original image: ${input_image}.`);\n",
    "\n",
    "async function run() {\n",
    "  // Create a new BedrockRuntime client.\n",
    "  const bedrockRuntime = new BedrockRuntime({});\n",
    "\n",
    "  // Load the input image from disk.\n",
    "  // IMPORTANT: The image width and height must both be 1024 pixels or less.\n",
    "  const inputImage = fs.readFileSync(input_image);\n",
    "  const inputImageBase64 = inputImage.toString('base64');\n",
    "\n",
    "  // Configure the inference parameters.\n",
    "  const inferenceParams = {\n",
    "    taskType: 'INPAINTING',\n",
    "    inPaintingParams: {\n",
    "      image: inputImageBase64,\n",
    "      maskPrompt: maskPrompt,\n",
    "      text: prompt\n",
    "    },\n",
    "    imageGenerationConfig: {\n",
    "      numberOfImages: 1,\n",
    "      quality: 'premium',\n",
    "      height: 1024,\n",
    "      width: 1024,\n",
    "      cfgScale: 8.0,\n",
    "      seed: 2 // Change the seed to generate different content\n",
    "    }\n",
    "  };\n",
    "\n",
    "  // Invoke the model.\n",
    "  const response = await bedrockRuntime.invokeModel({\n",
    "    modelId: 'amazon.titan-image-generator-v1',\n",
    "    contentType: 'application/json',\n",
    "    accept: 'application/json',\n",
    "    body: JSON.stringify(inferenceParams)\n",
    "  });\n",
    "\n",
    "  // Convert the JSON string to an object.\n",
    "  const responseBody = JSON.parse(response.body.transformToString());\n",
    "\n",
    "  // Loop through the generated images and save each to disk.\n",
    "  const images = responseBody.images;\n",
    "  images.forEach((image, index) => {\n",
    "    const outputFileName = `${outputImageNamePrefix}-${index + 1}.png`;\n",
    "    fs.writeFileSync(outputFileName, image, 'base64');\n",
    "    console.log(`Generated image: ${outputFileName}.`);\n",
    "  });\n",
    "}\n",
    "\n",
    "run();"
   ]
  },
  {
   "cell_type": "code",
   "execution_count": null,
   "id": "a9562d3e-f1bf-4b80-9ea8-1f4e9dc62c4f",
   "metadata": {
    "tags": []
   },
   "outputs": [],
   "source": [
    "!node data/js-code/object_replacement_using_a_mask_prompt.js"
   ]
  },
  {
   "cell_type": "markdown",
   "id": "338170a8-3c16-4360-9d2a-01155a3622c2",
   "metadata": {},
   "source": [
    "Check original image"
   ]
  },
  {
   "cell_type": "code",
   "execution_count": null,
   "id": "7619a1fc-457e-45d8-9792-45a9559300c2",
   "metadata": {
    "tags": []
   },
   "outputs": [],
   "source": [
    "Image.open(\"images/three_pots.jpg\")"
   ]
  },
  {
   "cell_type": "markdown",
   "id": "0fc7f9aa-3d5e-480f-a961-c35d82c10649",
   "metadata": {},
   "source": [
    "Check generated image."
   ]
  },
  {
   "cell_type": "code",
   "execution_count": null,
   "id": "a1b90c26-4ea1-467c-a147-9a9dabfd0d74",
   "metadata": {
    "tags": []
   },
   "outputs": [],
   "source": [
    "Image.open(\"data/titan-js/object-replacement-mask-prompt-1.png\")"
   ]
  },
  {
   "cell_type": "markdown",
   "id": "87cf574c-ec9f-4803-8d45-96d2d5346865",
   "metadata": {},
   "source": [
    "#### Remove object using a mask prompt\n",
    "\n",
    "Write the below JS code to a file."
   ]
  },
  {
   "cell_type": "code",
   "execution_count": null,
   "id": "c1fc2d50-8c3c-410d-ab2c-7b0673e0db29",
   "metadata": {
    "tags": []
   },
   "outputs": [],
   "source": [
    "%%writefile data/js-code/object_removal_using_a_mask_prompt.js\n",
    "\n",
    "const { BedrockRuntime } = require('@aws-sdk/client-bedrock-runtime');\n",
    "const fs = require('fs');\n",
    "\n",
    "const maskPrompt = 'flowers in pots';\n",
    "const input_image = 'images/three_pots.jpg';\n",
    "const outputImageNamePrefix = 'data/titan-js/object-removal-mask-prompt';\n",
    "\n",
    "console.log(`Original image: ${input_image}`);\n",
    "\n",
    "async function run() {\n",
    "  // Create a new BedrockRuntime client.\n",
    "  const bedrockRuntime = new BedrockRuntime({});\n",
    "\n",
    "  // Load the input image from disk.\n",
    "  // IMPORTANT: The image width and height must both be 1024 pixels or less.\n",
    "  const inputImage = fs.readFileSync(input_image);\n",
    "  const inputImageBase64 = inputImage.toString('base64');\n",
    "\n",
    "  // Configure the inference parameters.\n",
    "  const inferenceParams = {\n",
    "    taskType: 'INPAINTING',\n",
    "    inPaintingParams: {\n",
    "      image: inputImageBase64,\n",
    "      maskPrompt: maskPrompt\n",
    "      // We intentionally omit the \"text\" param. By doing so, the generated\n",
    "      // content will attempt to match the background.\n",
    "    },\n",
    "    imageGenerationConfig: {\n",
    "      numberOfImages: 1,\n",
    "      quality: 'premium', // Allowed values are 'standard' and 'premium'\n",
    "      height: 1024,\n",
    "      width: 1024,\n",
    "      cfgScale: 8.0,\n",
    "      seed: 0 // Use a fixed seed for repeatability.\n",
    "              // Or you can use a random seed: Math.round(Math.random() * 100000)\n",
    "    }\n",
    "  };\n",
    "\n",
    "  // Invoke the model.\n",
    "  const response = await bedrockRuntime.invokeModel({\n",
    "    modelId: 'amazon.titan-image-generator-v1',\n",
    "    contentType: 'application/json',\n",
    "    accept: 'application/json',\n",
    "    body: JSON.stringify(inferenceParams)\n",
    "  });\n",
    "\n",
    "  // Convert the JSON string to an object.\n",
    "  const responseBody = JSON.parse(response.body.transformToString());\n",
    "\n",
    "  // Loop through the generated images and save each to disk.\n",
    "  const images = responseBody.images;\n",
    "  images.forEach((image, index) => {\n",
    "    const outputFileName = `${outputImageNamePrefix}-${index + 1}.png`;\n",
    "    fs.writeFileSync(outputFileName, image, 'base64');\n",
    "    console.log(`Generated image: ${outputFileName}`);\n",
    "  });\n",
    "}\n",
    "\n",
    "run();"
   ]
  },
  {
   "cell_type": "code",
   "execution_count": null,
   "id": "674dd466-e6f0-41a5-aec4-009be312db53",
   "metadata": {
    "tags": []
   },
   "outputs": [],
   "source": [
    "!node data/js-code/object_removal_using_a_mask_prompt.js"
   ]
  },
  {
   "cell_type": "markdown",
   "id": "4b62bd50-f99e-43e4-a0bd-d981e2528b94",
   "metadata": {},
   "source": [
    "Check original image."
   ]
  },
  {
   "cell_type": "code",
   "execution_count": null,
   "id": "2deb927f-0be5-498e-98c3-fa2c5c528b19",
   "metadata": {
    "tags": []
   },
   "outputs": [],
   "source": [
    "Image.open(\"images/three_pots.jpg\")"
   ]
  },
  {
   "cell_type": "markdown",
   "id": "aa8a7818-a271-498b-840f-f68dd2a69b2e",
   "metadata": {},
   "source": [
    "Check generated image."
   ]
  },
  {
   "cell_type": "code",
   "execution_count": null,
   "id": "996463c5-cd97-4a4f-b94a-216082d4fda1",
   "metadata": {
    "tags": []
   },
   "outputs": [],
   "source": [
    "Image.open(\"data/titan-js/object-removal-mask-prompt-1.png\")"
   ]
  },
  {
   "cell_type": "markdown",
   "id": "b5dbdfa7-4056-497f-8421-ee9d33567f29",
   "metadata": {},
   "source": [
    "### Outpainting\n",
    "\n",
    "In this final section, we are going to **extend** the image.\n",
    "\n",
    "This process, known as **outpainting**, involves generating new pixels that seamlessly extend an image's existing boundaries.\n",
    "\n",
    "We can do this by providing the original image and a segmentation mask, which can either be an image or a prompt."
   ]
  },
  {
   "cell_type": "markdown",
   "id": "4b3b42e5-fbb6-4e1d-b68d-0ff88c2d7f48",
   "metadata": {},
   "source": [
    "#### Replace background using a mask prompt\n",
    "\n",
    "Write the below JS code to a file."
   ]
  },
  {
   "cell_type": "code",
   "execution_count": null,
   "id": "b173baa1-151d-47b9-b890-0fa3e1194a9a",
   "metadata": {
    "tags": []
   },
   "outputs": [],
   "source": [
    "%%writefile data/js-code/background_replacement_using_a_mask_prompt.js\n",
    "\n",
    "const { BedrockRuntime } = require('@aws-sdk/client-bedrock-runtime');\n",
    "const fs = require('fs');\n",
    "\n",
    "const prompt = 'woman standing by a warm fireplace';\n",
    "const maskPrompt = 'person';\n",
    "const input_image = 'images/woman-in-gallery.jpg';\n",
    "const outputImageNamePrefix = 'data/titan-js/background-replacement-mask-prompt';\n",
    "\n",
    "console.log(`Original image: ${input_image}`);\n",
    "\n",
    "async function run() {\n",
    "  // Create a new BedrockRuntime client.\n",
    "  const bedrockRuntime = new BedrockRuntime({});\n",
    "\n",
    "  // Load the input image from disk.\n",
    "  // IMPORTANT: The image width and height must both be 1024 pixels or less.\n",
    "  const inputImage = fs.readFileSync(input_image);\n",
    "  const inputImageBase64 = inputImage.toString('base64');\n",
    "\n",
    "  // Configure the inference parameters.\n",
    "  const inferenceParams = {\n",
    "    taskType: 'OUTPAINTING',\n",
    "    outPaintingParams: {\n",
    "      image: inputImageBase64,\n",
    "      text: prompt, // Description of the background to generate\n",
    "      maskPrompt: maskPrompt, // The element(s) to keep\n",
    "      outPaintingMode: 'PRECISE' // 'DEFAULT' softens the mask. 'PRECISE' keeps it sharp.\n",
    "    },\n",
    "    imageGenerationConfig: {\n",
    "      numberOfImages: 1, // Number of variations to generate\n",
    "      quality: 'premium', // Allowed values are 'standard' and 'premium'\n",
    "      height: 1024,\n",
    "      width: 1024,\n",
    "      cfgScale: 8.0,\n",
    "      seed: Math.round(Math.random() * 100000) // Use a random seed\n",
    "    }\n",
    "  };\n",
    "\n",
    "  // Invoke the model.\n",
    "  const response = await bedrockRuntime.invokeModel({\n",
    "    modelId: 'amazon.titan-image-generator-v1',\n",
    "    contentType: 'application/json',\n",
    "    accept: 'application/json',\n",
    "    body: JSON.stringify(inferenceParams)\n",
    "  });\n",
    "\n",
    "  // Convert the JSON string to an object.\n",
    "  const responseBody = JSON.parse(response.body.transformToString());\n",
    "\n",
    "  // Loop through the generated images and save each to disk.\n",
    "  const images = responseBody.images;\n",
    "  images.forEach((image, index) => {\n",
    "    const outputFileName = `${outputImageNamePrefix}-${index + 1}.png`;\n",
    "    fs.writeFileSync(outputFileName, image, 'base64');\n",
    "    console.log(`Generated image: ${outputFileName}.`);\n",
    "  });\n",
    "}\n",
    "\n",
    "run();"
   ]
  },
  {
   "cell_type": "code",
   "execution_count": null,
   "id": "6b124073-29dd-461f-ad22-cd0086955230",
   "metadata": {
    "tags": []
   },
   "outputs": [],
   "source": [
    "!node data/js-code/background_replacement_using_a_mask_prompt.js"
   ]
  },
  {
   "cell_type": "markdown",
   "id": "9ac6865a-3140-4630-8d39-38280a853919",
   "metadata": {},
   "source": [
    "Check original image."
   ]
  },
  {
   "cell_type": "code",
   "execution_count": null,
   "id": "f77b1807-fa70-41a9-aebb-2df79116f72c",
   "metadata": {
    "tags": []
   },
   "outputs": [],
   "source": [
    "Image.open(\"images/woman-in-gallery.jpg\")"
   ]
  },
  {
   "cell_type": "markdown",
   "id": "e6789f97-fe4b-4bf5-8265-cbaaf533c260",
   "metadata": {
    "tags": []
   },
   "source": [
    "Check generated image."
   ]
  },
  {
   "cell_type": "code",
   "execution_count": null,
   "id": "afa10454-b205-4c0c-bb5c-dfe56cc0d007",
   "metadata": {
    "tags": []
   },
   "outputs": [],
   "source": [
    "Image.open(\"data/titan-js/background-replacement-mask-prompt-1.png\")"
   ]
  },
  {
   "cell_type": "markdown",
   "id": "5070b408-4781-4c2e-a265-faf6cbcab934",
   "metadata": {},
   "source": [
    "#### Replace background using a mask image\n",
    "\n",
    "Write the below JS code to a file."
   ]
  },
  {
   "cell_type": "code",
   "execution_count": null,
   "id": "d192e609-3728-4159-bbfe-eb6f428bcbde",
   "metadata": {
    "tags": []
   },
   "outputs": [],
   "source": [
    "%%writefile data/js-code/background_replacement_using_a_mask_image.js\n",
    "\n",
    "const { BedrockRuntime } = require('@aws-sdk/client-bedrock-runtime');\n",
    "const fs = require('fs');\n",
    "\n",
    "const prompt = 'potted flower sitting on a kitchen counter';\n",
    "const input_image = 'images/three_pots.jpg';\n",
    "const mask_image = 'images/three_pots-center_pot_mask_INVERTED.png';\n",
    "const outputImageNamePrefix = 'data/titan-js/background-replacement-mask-image';\n",
    "\n",
    "console.log(`Original image: ${input_image}`);\n",
    "console.log(`Mask image: ${mask_image}`);\n",
    "\n",
    "async function run() {\n",
    "  // Create a new BedrockRuntime client.\n",
    "  const bedrockRuntime = new BedrockRuntime({});\n",
    "\n",
    "  // Load the input image from disk.\n",
    "  // IMPORTANT: The image width and height must both be 1024 pixels or less.\n",
    "  const inputImage = fs.readFileSync(input_image);\n",
    "  const inputImageBase64 = inputImage.toString('base64');\n",
    "\n",
    "  // Load the mask image from disk. Black pixels in the mask represent the\n",
    "  // areas you would like to replace.\n",
    "  // IMPORTANT: The mask must be in PNG format and must contain only pure\n",
    "  // black and pure white pixels.\n",
    "  const maskImage = fs.readFileSync(mask_image);\n",
    "  const maskImageBase64 = maskImage.toString('base64');\n",
    "\n",
    "  // Configure the inference parameters.\n",
    "  const inferenceParams = {\n",
    "    taskType: 'OUTPAINTING',\n",
    "    outPaintingParams: {\n",
    "      image: inputImageBase64,\n",
    "      text: prompt, // Description of the background to generate\n",
    "      maskImage: maskImageBase64,\n",
    "      outPaintingMode: 'DEFAULT' // 'DEFAULT' softens the mask. 'PRECISE' keeps it sharp.\n",
    "    },\n",
    "    imageGenerationConfig: {\n",
    "      numberOfImages: 1, // Number of variations to generate\n",
    "      quality: 'premium', // Allowed values are 'standard' and 'premium'\n",
    "      height: 1024,\n",
    "      width: 1024,\n",
    "      cfgScale: 8.0,\n",
    "      seed: 0\n",
    "    }\n",
    "  };\n",
    "\n",
    "  // Invoke the model.\n",
    "  const response = await bedrockRuntime.invokeModel({\n",
    "    modelId: 'amazon.titan-image-generator-v1',\n",
    "    contentType: 'application/json',\n",
    "    accept: 'application/json',\n",
    "    body: JSON.stringify(inferenceParams)\n",
    "  });\n",
    "\n",
    "  // Convert the JSON string to an object.\n",
    "  const responseBody = JSON.parse(response.body.transformToString());\n",
    "\n",
    "  // Loop through the generated images and save each to disk.\n",
    "  const images = responseBody.images;\n",
    "  images.forEach((image, index) => {\n",
    "    const outputFileName = `${outputImageNamePrefix}-${index + 1}.png`;\n",
    "    fs.writeFileSync(outputFileName, image, 'base64');\n",
    "    console.log(`Generated image: ${outputFileName}.`);\n",
    "  });\n",
    "}\n",
    "\n",
    "run();"
   ]
  },
  {
   "cell_type": "code",
   "execution_count": null,
   "id": "88872cab-be79-4b71-b37e-f2901fde9771",
   "metadata": {
    "tags": []
   },
   "outputs": [],
   "source": [
    "!node data/js-code/background_replacement_using_a_mask_image.js"
   ]
  },
  {
   "cell_type": "markdown",
   "id": "94a0fad4-530f-4f69-8568-b1718840a69b",
   "metadata": {},
   "source": [
    "Check original image."
   ]
  },
  {
   "cell_type": "code",
   "execution_count": null,
   "id": "5371e412-e329-49d2-8c13-85cfeaa77ff5",
   "metadata": {
    "tags": []
   },
   "outputs": [],
   "source": [
    "Image.open(\"images/three_pots.jpg\")"
   ]
  },
  {
   "cell_type": "markdown",
   "id": "01110fd1-2905-43db-a981-aef843fb5bc3",
   "metadata": {},
   "source": [
    "Check masked image."
   ]
  },
  {
   "cell_type": "code",
   "execution_count": null,
   "id": "d7264692-47c9-4ac6-a8da-efccfc76dff3",
   "metadata": {
    "tags": []
   },
   "outputs": [],
   "source": [
    "Image.open(\"images/three_pots-center_pot_mask_INVERTED.png\")"
   ]
  },
  {
   "cell_type": "markdown",
   "id": "dd96d3b8-4b42-4451-869c-f813c3551702",
   "metadata": {},
   "source": [
    "Check generated image."
   ]
  },
  {
   "cell_type": "code",
   "execution_count": null,
   "id": "d5abf0b2-8063-40fc-aa10-72fa569103de",
   "metadata": {
    "tags": []
   },
   "outputs": [],
   "source": [
    "Image.open(\"data/titan-js/background-replacement-mask-image-1.png\")"
   ]
  },
  {
   "cell_type": "code",
   "execution_count": null,
   "id": "d6946be9-9c9f-45ee-85e5-18ab12d2a779",
   "metadata": {},
   "outputs": [],
   "source": []
  }
 ],
 "metadata": {
  "availableInstances": [
   {
    "_defaultOrder": 0,
    "_isFastLaunch": true,
    "category": "General purpose",
    "gpuNum": 0,
    "hideHardwareSpecs": false,
    "memoryGiB": 4,
    "name": "ml.t3.medium",
    "vcpuNum": 2
   },
   {
    "_defaultOrder": 1,
    "_isFastLaunch": false,
    "category": "General purpose",
    "gpuNum": 0,
    "hideHardwareSpecs": false,
    "memoryGiB": 8,
    "name": "ml.t3.large",
    "vcpuNum": 2
   },
   {
    "_defaultOrder": 2,
    "_isFastLaunch": false,
    "category": "General purpose",
    "gpuNum": 0,
    "hideHardwareSpecs": false,
    "memoryGiB": 16,
    "name": "ml.t3.xlarge",
    "vcpuNum": 4
   },
   {
    "_defaultOrder": 3,
    "_isFastLaunch": false,
    "category": "General purpose",
    "gpuNum": 0,
    "hideHardwareSpecs": false,
    "memoryGiB": 32,
    "name": "ml.t3.2xlarge",
    "vcpuNum": 8
   },
   {
    "_defaultOrder": 4,
    "_isFastLaunch": true,
    "category": "General purpose",
    "gpuNum": 0,
    "hideHardwareSpecs": false,
    "memoryGiB": 8,
    "name": "ml.m5.large",
    "vcpuNum": 2
   },
   {
    "_defaultOrder": 5,
    "_isFastLaunch": false,
    "category": "General purpose",
    "gpuNum": 0,
    "hideHardwareSpecs": false,
    "memoryGiB": 16,
    "name": "ml.m5.xlarge",
    "vcpuNum": 4
   },
   {
    "_defaultOrder": 6,
    "_isFastLaunch": false,
    "category": "General purpose",
    "gpuNum": 0,
    "hideHardwareSpecs": false,
    "memoryGiB": 32,
    "name": "ml.m5.2xlarge",
    "vcpuNum": 8
   },
   {
    "_defaultOrder": 7,
    "_isFastLaunch": false,
    "category": "General purpose",
    "gpuNum": 0,
    "hideHardwareSpecs": false,
    "memoryGiB": 64,
    "name": "ml.m5.4xlarge",
    "vcpuNum": 16
   },
   {
    "_defaultOrder": 8,
    "_isFastLaunch": false,
    "category": "General purpose",
    "gpuNum": 0,
    "hideHardwareSpecs": false,
    "memoryGiB": 128,
    "name": "ml.m5.8xlarge",
    "vcpuNum": 32
   },
   {
    "_defaultOrder": 9,
    "_isFastLaunch": false,
    "category": "General purpose",
    "gpuNum": 0,
    "hideHardwareSpecs": false,
    "memoryGiB": 192,
    "name": "ml.m5.12xlarge",
    "vcpuNum": 48
   },
   {
    "_defaultOrder": 10,
    "_isFastLaunch": false,
    "category": "General purpose",
    "gpuNum": 0,
    "hideHardwareSpecs": false,
    "memoryGiB": 256,
    "name": "ml.m5.16xlarge",
    "vcpuNum": 64
   },
   {
    "_defaultOrder": 11,
    "_isFastLaunch": false,
    "category": "General purpose",
    "gpuNum": 0,
    "hideHardwareSpecs": false,
    "memoryGiB": 384,
    "name": "ml.m5.24xlarge",
    "vcpuNum": 96
   },
   {
    "_defaultOrder": 12,
    "_isFastLaunch": false,
    "category": "General purpose",
    "gpuNum": 0,
    "hideHardwareSpecs": false,
    "memoryGiB": 8,
    "name": "ml.m5d.large",
    "vcpuNum": 2
   },
   {
    "_defaultOrder": 13,
    "_isFastLaunch": false,
    "category": "General purpose",
    "gpuNum": 0,
    "hideHardwareSpecs": false,
    "memoryGiB": 16,
    "name": "ml.m5d.xlarge",
    "vcpuNum": 4
   },
   {
    "_defaultOrder": 14,
    "_isFastLaunch": false,
    "category": "General purpose",
    "gpuNum": 0,
    "hideHardwareSpecs": false,
    "memoryGiB": 32,
    "name": "ml.m5d.2xlarge",
    "vcpuNum": 8
   },
   {
    "_defaultOrder": 15,
    "_isFastLaunch": false,
    "category": "General purpose",
    "gpuNum": 0,
    "hideHardwareSpecs": false,
    "memoryGiB": 64,
    "name": "ml.m5d.4xlarge",
    "vcpuNum": 16
   },
   {
    "_defaultOrder": 16,
    "_isFastLaunch": false,
    "category": "General purpose",
    "gpuNum": 0,
    "hideHardwareSpecs": false,
    "memoryGiB": 128,
    "name": "ml.m5d.8xlarge",
    "vcpuNum": 32
   },
   {
    "_defaultOrder": 17,
    "_isFastLaunch": false,
    "category": "General purpose",
    "gpuNum": 0,
    "hideHardwareSpecs": false,
    "memoryGiB": 192,
    "name": "ml.m5d.12xlarge",
    "vcpuNum": 48
   },
   {
    "_defaultOrder": 18,
    "_isFastLaunch": false,
    "category": "General purpose",
    "gpuNum": 0,
    "hideHardwareSpecs": false,
    "memoryGiB": 256,
    "name": "ml.m5d.16xlarge",
    "vcpuNum": 64
   },
   {
    "_defaultOrder": 19,
    "_isFastLaunch": false,
    "category": "General purpose",
    "gpuNum": 0,
    "hideHardwareSpecs": false,
    "memoryGiB": 384,
    "name": "ml.m5d.24xlarge",
    "vcpuNum": 96
   },
   {
    "_defaultOrder": 20,
    "_isFastLaunch": false,
    "category": "General purpose",
    "gpuNum": 0,
    "hideHardwareSpecs": true,
    "memoryGiB": 0,
    "name": "ml.geospatial.interactive",
    "supportedImageNames": [
     "sagemaker-geospatial-v1-0"
    ],
    "vcpuNum": 0
   },
   {
    "_defaultOrder": 21,
    "_isFastLaunch": true,
    "category": "Compute optimized",
    "gpuNum": 0,
    "hideHardwareSpecs": false,
    "memoryGiB": 4,
    "name": "ml.c5.large",
    "vcpuNum": 2
   },
   {
    "_defaultOrder": 22,
    "_isFastLaunch": false,
    "category": "Compute optimized",
    "gpuNum": 0,
    "hideHardwareSpecs": false,
    "memoryGiB": 8,
    "name": "ml.c5.xlarge",
    "vcpuNum": 4
   },
   {
    "_defaultOrder": 23,
    "_isFastLaunch": false,
    "category": "Compute optimized",
    "gpuNum": 0,
    "hideHardwareSpecs": false,
    "memoryGiB": 16,
    "name": "ml.c5.2xlarge",
    "vcpuNum": 8
   },
   {
    "_defaultOrder": 24,
    "_isFastLaunch": false,
    "category": "Compute optimized",
    "gpuNum": 0,
    "hideHardwareSpecs": false,
    "memoryGiB": 32,
    "name": "ml.c5.4xlarge",
    "vcpuNum": 16
   },
   {
    "_defaultOrder": 25,
    "_isFastLaunch": false,
    "category": "Compute optimized",
    "gpuNum": 0,
    "hideHardwareSpecs": false,
    "memoryGiB": 72,
    "name": "ml.c5.9xlarge",
    "vcpuNum": 36
   },
   {
    "_defaultOrder": 26,
    "_isFastLaunch": false,
    "category": "Compute optimized",
    "gpuNum": 0,
    "hideHardwareSpecs": false,
    "memoryGiB": 96,
    "name": "ml.c5.12xlarge",
    "vcpuNum": 48
   },
   {
    "_defaultOrder": 27,
    "_isFastLaunch": false,
    "category": "Compute optimized",
    "gpuNum": 0,
    "hideHardwareSpecs": false,
    "memoryGiB": 144,
    "name": "ml.c5.18xlarge",
    "vcpuNum": 72
   },
   {
    "_defaultOrder": 28,
    "_isFastLaunch": false,
    "category": "Compute optimized",
    "gpuNum": 0,
    "hideHardwareSpecs": false,
    "memoryGiB": 192,
    "name": "ml.c5.24xlarge",
    "vcpuNum": 96
   },
   {
    "_defaultOrder": 29,
    "_isFastLaunch": true,
    "category": "Accelerated computing",
    "gpuNum": 1,
    "hideHardwareSpecs": false,
    "memoryGiB": 16,
    "name": "ml.g4dn.xlarge",
    "vcpuNum": 4
   },
   {
    "_defaultOrder": 30,
    "_isFastLaunch": false,
    "category": "Accelerated computing",
    "gpuNum": 1,
    "hideHardwareSpecs": false,
    "memoryGiB": 32,
    "name": "ml.g4dn.2xlarge",
    "vcpuNum": 8
   },
   {
    "_defaultOrder": 31,
    "_isFastLaunch": false,
    "category": "Accelerated computing",
    "gpuNum": 1,
    "hideHardwareSpecs": false,
    "memoryGiB": 64,
    "name": "ml.g4dn.4xlarge",
    "vcpuNum": 16
   },
   {
    "_defaultOrder": 32,
    "_isFastLaunch": false,
    "category": "Accelerated computing",
    "gpuNum": 1,
    "hideHardwareSpecs": false,
    "memoryGiB": 128,
    "name": "ml.g4dn.8xlarge",
    "vcpuNum": 32
   },
   {
    "_defaultOrder": 33,
    "_isFastLaunch": false,
    "category": "Accelerated computing",
    "gpuNum": 4,
    "hideHardwareSpecs": false,
    "memoryGiB": 192,
    "name": "ml.g4dn.12xlarge",
    "vcpuNum": 48
   },
   {
    "_defaultOrder": 34,
    "_isFastLaunch": false,
    "category": "Accelerated computing",
    "gpuNum": 1,
    "hideHardwareSpecs": false,
    "memoryGiB": 256,
    "name": "ml.g4dn.16xlarge",
    "vcpuNum": 64
   },
   {
    "_defaultOrder": 35,
    "_isFastLaunch": false,
    "category": "Accelerated computing",
    "gpuNum": 1,
    "hideHardwareSpecs": false,
    "memoryGiB": 61,
    "name": "ml.p3.2xlarge",
    "vcpuNum": 8
   },
   {
    "_defaultOrder": 36,
    "_isFastLaunch": false,
    "category": "Accelerated computing",
    "gpuNum": 4,
    "hideHardwareSpecs": false,
    "memoryGiB": 244,
    "name": "ml.p3.8xlarge",
    "vcpuNum": 32
   },
   {
    "_defaultOrder": 37,
    "_isFastLaunch": false,
    "category": "Accelerated computing",
    "gpuNum": 8,
    "hideHardwareSpecs": false,
    "memoryGiB": 488,
    "name": "ml.p3.16xlarge",
    "vcpuNum": 64
   },
   {
    "_defaultOrder": 38,
    "_isFastLaunch": false,
    "category": "Accelerated computing",
    "gpuNum": 8,
    "hideHardwareSpecs": false,
    "memoryGiB": 768,
    "name": "ml.p3dn.24xlarge",
    "vcpuNum": 96
   },
   {
    "_defaultOrder": 39,
    "_isFastLaunch": false,
    "category": "Memory Optimized",
    "gpuNum": 0,
    "hideHardwareSpecs": false,
    "memoryGiB": 16,
    "name": "ml.r5.large",
    "vcpuNum": 2
   },
   {
    "_defaultOrder": 40,
    "_isFastLaunch": false,
    "category": "Memory Optimized",
    "gpuNum": 0,
    "hideHardwareSpecs": false,
    "memoryGiB": 32,
    "name": "ml.r5.xlarge",
    "vcpuNum": 4
   },
   {
    "_defaultOrder": 41,
    "_isFastLaunch": false,
    "category": "Memory Optimized",
    "gpuNum": 0,
    "hideHardwareSpecs": false,
    "memoryGiB": 64,
    "name": "ml.r5.2xlarge",
    "vcpuNum": 8
   },
   {
    "_defaultOrder": 42,
    "_isFastLaunch": false,
    "category": "Memory Optimized",
    "gpuNum": 0,
    "hideHardwareSpecs": false,
    "memoryGiB": 128,
    "name": "ml.r5.4xlarge",
    "vcpuNum": 16
   },
   {
    "_defaultOrder": 43,
    "_isFastLaunch": false,
    "category": "Memory Optimized",
    "gpuNum": 0,
    "hideHardwareSpecs": false,
    "memoryGiB": 256,
    "name": "ml.r5.8xlarge",
    "vcpuNum": 32
   },
   {
    "_defaultOrder": 44,
    "_isFastLaunch": false,
    "category": "Memory Optimized",
    "gpuNum": 0,
    "hideHardwareSpecs": false,
    "memoryGiB": 384,
    "name": "ml.r5.12xlarge",
    "vcpuNum": 48
   },
   {
    "_defaultOrder": 45,
    "_isFastLaunch": false,
    "category": "Memory Optimized",
    "gpuNum": 0,
    "hideHardwareSpecs": false,
    "memoryGiB": 512,
    "name": "ml.r5.16xlarge",
    "vcpuNum": 64
   },
   {
    "_defaultOrder": 46,
    "_isFastLaunch": false,
    "category": "Memory Optimized",
    "gpuNum": 0,
    "hideHardwareSpecs": false,
    "memoryGiB": 768,
    "name": "ml.r5.24xlarge",
    "vcpuNum": 96
   },
   {
    "_defaultOrder": 47,
    "_isFastLaunch": false,
    "category": "Accelerated computing",
    "gpuNum": 1,
    "hideHardwareSpecs": false,
    "memoryGiB": 16,
    "name": "ml.g5.xlarge",
    "vcpuNum": 4
   },
   {
    "_defaultOrder": 48,
    "_isFastLaunch": false,
    "category": "Accelerated computing",
    "gpuNum": 1,
    "hideHardwareSpecs": false,
    "memoryGiB": 32,
    "name": "ml.g5.2xlarge",
    "vcpuNum": 8
   },
   {
    "_defaultOrder": 49,
    "_isFastLaunch": false,
    "category": "Accelerated computing",
    "gpuNum": 1,
    "hideHardwareSpecs": false,
    "memoryGiB": 64,
    "name": "ml.g5.4xlarge",
    "vcpuNum": 16
   },
   {
    "_defaultOrder": 50,
    "_isFastLaunch": false,
    "category": "Accelerated computing",
    "gpuNum": 1,
    "hideHardwareSpecs": false,
    "memoryGiB": 128,
    "name": "ml.g5.8xlarge",
    "vcpuNum": 32
   },
   {
    "_defaultOrder": 51,
    "_isFastLaunch": false,
    "category": "Accelerated computing",
    "gpuNum": 1,
    "hideHardwareSpecs": false,
    "memoryGiB": 256,
    "name": "ml.g5.16xlarge",
    "vcpuNum": 64
   },
   {
    "_defaultOrder": 52,
    "_isFastLaunch": false,
    "category": "Accelerated computing",
    "gpuNum": 4,
    "hideHardwareSpecs": false,
    "memoryGiB": 192,
    "name": "ml.g5.12xlarge",
    "vcpuNum": 48
   },
   {
    "_defaultOrder": 53,
    "_isFastLaunch": false,
    "category": "Accelerated computing",
    "gpuNum": 4,
    "hideHardwareSpecs": false,
    "memoryGiB": 384,
    "name": "ml.g5.24xlarge",
    "vcpuNum": 96
   },
   {
    "_defaultOrder": 54,
    "_isFastLaunch": false,
    "category": "Accelerated computing",
    "gpuNum": 8,
    "hideHardwareSpecs": false,
    "memoryGiB": 768,
    "name": "ml.g5.48xlarge",
    "vcpuNum": 192
   },
   {
    "_defaultOrder": 55,
    "_isFastLaunch": false,
    "category": "Accelerated computing",
    "gpuNum": 8,
    "hideHardwareSpecs": false,
    "memoryGiB": 1152,
    "name": "ml.p4d.24xlarge",
    "vcpuNum": 96
   },
   {
    "_defaultOrder": 56,
    "_isFastLaunch": false,
    "category": "Accelerated computing",
    "gpuNum": 8,
    "hideHardwareSpecs": false,
    "memoryGiB": 1152,
    "name": "ml.p4de.24xlarge",
    "vcpuNum": 96
   },
   {
    "_defaultOrder": 57,
    "_isFastLaunch": false,
    "category": "Accelerated computing",
    "gpuNum": 0,
    "hideHardwareSpecs": false,
    "memoryGiB": 32,
    "name": "ml.trn1.2xlarge",
    "vcpuNum": 8
   },
   {
    "_defaultOrder": 58,
    "_isFastLaunch": false,
    "category": "Accelerated computing",
    "gpuNum": 0,
    "hideHardwareSpecs": false,
    "memoryGiB": 512,
    "name": "ml.trn1.32xlarge",
    "vcpuNum": 128
   },
   {
    "_defaultOrder": 59,
    "_isFastLaunch": false,
    "category": "Accelerated computing",
    "gpuNum": 0,
    "hideHardwareSpecs": false,
    "memoryGiB": 512,
    "name": "ml.trn1n.32xlarge",
    "vcpuNum": 128
   }
  ],
  "instance_type": "ml.t3.medium",
  "kernelspec": {
   "display_name": "Python 3 (Data Science 3.0)",
   "language": "python",
   "name": "python3__SAGEMAKER_INTERNAL__arn:aws:sagemaker:us-east-1:081325390199:image/sagemaker-data-science-310-v1"
  },
  "language_info": {
   "codemirror_mode": {
    "name": "ipython",
    "version": 3
   },
   "file_extension": ".py",
   "mimetype": "text/x-python",
   "name": "python",
   "nbconvert_exporter": "python",
   "pygments_lexer": "ipython3",
   "version": "3.10.6"
  }
 },
 "nbformat": 4,
 "nbformat_minor": 5
}
